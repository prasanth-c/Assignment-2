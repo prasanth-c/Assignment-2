{
 "cells": [
  {
   "cell_type": "markdown",
   "metadata": {},
   "source": [
    "# Task 1: "
   ]
  },
  {
   "cell_type": "raw",
   "metadata": {},
   "source": [
    "1.1  \n",
    " \n",
    "Write a Python Program to implement your own myreduce() function which works exactly like Python's built-in function reduce() "
   ]
  },
  {
   "cell_type": "raw",
   "metadata": {},
   "source": [
    "Using reduce function"
   ]
  },
  {
   "cell_type": "code",
   "execution_count": 4,
   "metadata": {},
   "outputs": [
    {
     "name": "stdout",
     "output_type": "stream",
     "text": [
      "55\n"
     ]
    }
   ],
   "source": [
    "from functools import reduce\n",
    "lst=[1,2,3,4,5,6,7,8,9,10]\n",
    "def add_all(a,b):\n",
    "    return (a+b)\n",
    "sum=reduce(add_all,lst)\n",
    "print(sum)\n",
    "    \n",
    "    \n"
   ]
  },
  {
   "cell_type": "raw",
   "metadata": {},
   "source": [
    "Using my_reduce function"
   ]
  },
  {
   "cell_type": "code",
   "execution_count": 6,
   "metadata": {},
   "outputs": [
    {
     "name": "stdout",
     "output_type": "stream",
     "text": [
      "55\n"
     ]
    }
   ],
   "source": [
    "lst=[1,2,3,4,5,6,7,8,9,10]\n",
    "def add_all(a,b):\n",
    "    return (a+b)\n",
    "def my_reduce(func,seq):\n",
    "    s=0\n",
    "    for i in seq:\n",
    "        s=func(s,i)\n",
    "    return s\n",
    "sum=my_reduce(add_all,lst)\n",
    "print(sum)"
   ]
  },
  {
   "cell_type": "raw",
   "metadata": {},
   "source": [
    "1.2  \n",
    " \n",
    "Write a Python program to implement your own myfilter() function which works exactly like Python's built-in function filter() "
   ]
  },
  {
   "cell_type": "raw",
   "metadata": {},
   "source": [
    "Using filter function"
   ]
  },
  {
   "cell_type": "code",
   "execution_count": 13,
   "metadata": {},
   "outputs": [
    {
     "name": "stdout",
     "output_type": "stream",
     "text": [
      "[2, 4, 6, 8, 10]\n"
     ]
    }
   ],
   "source": [
    "lst=[1,2,3,4,5,6,7,8,9,10]\n",
    "def is_even(a):\n",
    "    return a%2==0\n",
    "   \n",
    "even=list(filter(is_even,lst))\n",
    "print(even)\n"
   ]
  },
  {
   "cell_type": "raw",
   "metadata": {},
   "source": [
    "Using my_filter function"
   ]
  },
  {
   "cell_type": "code",
   "execution_count": 15,
   "metadata": {},
   "outputs": [
    {
     "name": "stdout",
     "output_type": "stream",
     "text": [
      "[2, 4, 6, 8, 10]\n"
     ]
    }
   ],
   "source": [
    "lst=[1,2,3,4,5,6,7,8,9,10]\n",
    "def is_even(a):\n",
    "    return a%2==0\n",
    "def my_filter(func,seq):\n",
    "    a=[]\n",
    "    for i in seq:\n",
    "        if func(i):\n",
    "            a=a+[i]\n",
    "    return(a)            \n",
    "even=my_filter(is_even,lst)\n",
    "print(even)"
   ]
  },
  {
   "cell_type": "code",
   "execution_count": null,
   "metadata": {},
   "outputs": [],
   "source": [
    "\n",
    " 2.  \n",
    " \n",
    "Implement List comprehensions to produce the following lists. \n",
    " \n",
    "Write List comprehensions to produce the following Lists \n",
    " \n",
    "['A', 'C', 'A', 'D', 'G', 'I', ’L’, ‘ D’] \n",
    " \n",
    "['x', 'xx', 'xxx', 'xxxx', 'y', 'yy', 'yyy', 'yyyy', 'z', 'zz', 'zzz', 'zzzz'] \n",
    " \n",
    "['x', 'y', 'z', 'xx', 'yy', 'zz', 'xx', 'yy', 'zz', 'xxxx', 'yyyy', 'zzzz'] \n",
    " \n",
    "[[2], [3], [4], [3], [4], [5], [4], [5], [6]] \n",
    " \n",
    "[[2, 3, 4, 5], [3, 4, 5, 6], [4, 5, 6, 7], [5, 6, 7, 8]] \n",
    " \n",
    "[(1, 1), (2, 1), (3, 1), (1, 2), (2, 2), (3, 2), (1, 3), (2, 3), (3, 3)] "
   ]
  },
  {
   "cell_type": "code",
   "execution_count": 40,
   "metadata": {},
   "outputs": [
    {
     "name": "stdout",
     "output_type": "stream",
     "text": [
      "['A', 'C', 'A', 'D', 'G', 'I', 'L', 'D'] \n",
      "\n",
      "['X', 'XX', 'XXX', 'XXXX', 'Y', 'YY', 'YYY', 'YYYY', 'Z', 'ZZ', 'ZZZ', 'ZZZZ'] \n",
      "\n",
      "['X', 'Y', 'Z', 'XX', 'YY', 'ZZ', 'XXX', 'YYY', 'ZZZ', 'XXXX', 'YYYY', 'ZZZZ'] \n",
      "\n",
      "[[2], [3], [4], [3], [4], [5], [4], [5], [6]] \n",
      "\n",
      "[[2, 3, 4, 5], [3, 4, 5, 6], [4, 5, 6, 7], [5, 6, 7, 8]] \n",
      "\n",
      "[(1, 1), (2, 1), (3, 1), (1, 2), (2, 2), (3, 2), (1, 3), (2, 3), (3, 3)] \n",
      "\n"
     ]
    }
   ],
   "source": [
    "h_letters = [ letter for letter in 'ACADGILD' ]\n",
    "print( h_letters,'\\n')\n",
    "\n",
    "transpose = [(i*row) for row in 'XYZ' for i in range(1,5) ]\n",
    "print (transpose,'\\n')\n",
    "\n",
    "transpose = [(i*row) for row in range(1,5) for i in 'XYZ' ]\n",
    "print (transpose,'\\n')\n",
    "\n",
    "h=[[i+j] for j in range(0,3) for i in [2,3,4]]\n",
    "print(h,'\\n')\n",
    "\n",
    "h=[[i,i+1,i+2,i+3]  for i in [2,3,4,5]]\n",
    "print(h,'\\n')\n",
    "\n",
    "h=[(i,j) for j in range(1,4) for i in [1,2,3]]\n",
    "print(h,'\\n')\n",
    "\n"
   ]
  },
  {
   "cell_type": "raw",
   "metadata": {},
   "source": [
    "3.  \n",
    " \n",
    "Implement a function longestWord() that takes a list of words and returns the longest one. "
   ]
  },
  {
   "cell_type": "code",
   "execution_count": 42,
   "metadata": {},
   "outputs": [
    {
     "name": "stdout",
     "output_type": "stream",
     "text": [
      "Pneumonoultramicroscopicsilicovolcanoconiosis\n"
     ]
    }
   ],
   "source": [
    "ls=['Incomprehensibilities','Dichlorodifluoromethane','Thyroparathyroidectomized','Honorificabilitudinitatibus','Antidisestablishmentarianism','Pneumonoultramicroscopicsilicovolcanoconiosis']\n",
    "def longest_word(lst):\n",
    "    b=0\n",
    "    for i in lst:\n",
    "        if len(i)>b:\n",
    "            a=i\n",
    "            b=len(i)\n",
    "    return(a)\n",
    "print(longest_word(ls))        "
   ]
  },
  {
   "cell_type": "markdown",
   "metadata": {},
   "source": [
    "# Task 2: "
   ]
  },
  {
   "cell_type": "raw",
   "metadata": {},
   "source": [
    "1.1  \n",
    " \n",
    "Write a Python Program(with class concepts) to find the area of the triangle using the below formula. \n",
    " \n",
    "area = (s*(s-a)*(s-b)*(s-c)) ** 0.5 \n",
    " \n",
    "Function to take the length of the sides of triangle from user should be defined in the parent class and function to calculate the area should be defined in subclass. "
   ]
  },
  {
   "cell_type": "code",
   "execution_count": 63,
   "metadata": {},
   "outputs": [
    {
     "name": "stdout",
     "output_type": "stream",
     "text": [
      "Enter the length of 1st side of triangle: 8.36\n",
      "Enter the length of 2nd side of triangle: 6.24\n",
      "Enter the length of 3rd side of triangle: 7.14\n",
      "The area of Triangle is :  21.706836955899398\n"
     ]
    }
   ],
   "source": [
    "class side_of_triangle:\n",
    "    def __init__(self,a,b,c):\n",
    "        self.a=a\n",
    "        self.b=b\n",
    "        self.c=c\n",
    "    def calc_of_s(self):\n",
    "        s=((self.a)+(self.b)+(self.c))/2\n",
    "        return (s)\n",
    "    \n",
    "    \n",
    "class area_of_triangle(side_of_triangle):\n",
    "    def calc_of_area(self,s):\n",
    "        area=(s*(s-a)*(s-b)*(s-c)) ** 0.5\n",
    "        return(area)\n",
    "\n",
    "\n",
    "a=float(input('Enter the length of 1st side of triangle: '))\n",
    "b=float(input('Enter the length of 2nd side of triangle: '))\n",
    "c=float(input('Enter the length of 3rd side of triangle: '))\n",
    "triangle1=area_of_triangle(a,b,c)\n",
    "k=triangle1.calc_of_s()\n",
    "l=triangle1.calc_of_area(k)\n",
    "print('The area of Triangle is : ',l)"
   ]
  },
  {
   "cell_type": "raw",
   "metadata": {},
   "source": [
    "1.2 \n",
    " \n",
    "Write a function filter_long_words() that takes a list of words and an integer n and returns the list of words that are longer than n. "
   ]
  },
  {
   "cell_type": "code",
   "execution_count": 45,
   "metadata": {},
   "outputs": [
    {
     "name": "stdout",
     "output_type": "stream",
     "text": [
      "['Thyroparathyroidectomized', 'Honorificabilitudinitatibus', 'Antidisestablishmentarianism', 'Pneumonoultramicroscopicsilicovolcanoconiosis']\n"
     ]
    }
   ],
   "source": [
    "ls=['Incomprehensibilities','Dichlorodifluoromethane','Thyroparathyroidectomized','Honorificabilitudinitatibus','Antidisestablishmentarianism','Pneumonoultramicroscopicsilicovolcanoconiosis']\n",
    "\n",
    "def filter_long_words(lst,intt):\n",
    "    j=[]\n",
    "    for i in lst:\n",
    "        if len(i)>intt:\n",
    "            j=j+[i]\n",
    "    return(j)\n",
    "print(filter_long_words(ls,24))"
   ]
  },
  {
   "cell_type": "raw",
   "metadata": {},
   "source": [
    "2.1 \n",
    " \n",
    "Write a Python program using function concept that maps  list of words into a list of integers representing the lengths of the corresponding words​. \n",
    " Hint: ​If a list [ ab,cde,erty] is passed on to the python function output should come as [2,3,4] \n",
    " Here 2,3 and 4 are the lengths of the words in the list. "
   ]
  },
  {
   "cell_type": "code",
   "execution_count": 46,
   "metadata": {},
   "outputs": [
    {
     "name": "stdout",
     "output_type": "stream",
     "text": [
      "[21, 23, 25, 27, 28, 45]\n"
     ]
    }
   ],
   "source": [
    "ls=['Incomprehensibilities','Dichlorodifluoromethane','Thyroparathyroidectomized','Honorificabilitudinitatibus','Antidisestablishmentarianism','Pneumonoultramicroscopicsilicovolcanoconiosis']\n",
    "def words_int_conveter(lst):\n",
    "    j=[]\n",
    "    for i in lst:\n",
    "        j=j+[len(i)]\n",
    "    return(j)\n",
    "print(words_int_conveter(ls))\n",
    "\n"
   ]
  },
  {
   "cell_type": "code",
   "execution_count": null,
   "metadata": {},
   "outputs": [],
   "source": [
    "2.2 \n",
    " \n",
    "Write a Python function which takes a character (i.e. a string of length 1) and returns True if it is a vowel, False otherwise."
   ]
  },
  {
   "cell_type": "code",
   "execution_count": 54,
   "metadata": {},
   "outputs": [
    {
     "name": "stdout",
     "output_type": "stream",
     "text": [
      "It is not a Vowel\n"
     ]
    }
   ],
   "source": [
    "def vowelornot(st):\n",
    "    vowel_lst=['a','A','e','E','I','i','O','o','u','U']\n",
    "    for i in vowel_lst:\n",
    "        if st==i:\n",
    "            print('It is a Vowel')\n",
    "            break\n",
    "    else:\n",
    "        print('It is not a Vowel')\n",
    "            \n",
    "            \n",
    "vowelornot('n')"
   ]
  },
  {
   "cell_type": "code",
   "execution_count": null,
   "metadata": {},
   "outputs": [],
   "source": []
  }
 ],
 "metadata": {
  "kernelspec": {
   "display_name": "Python 3",
   "language": "python",
   "name": "python3"
  },
  "language_info": {
   "codemirror_mode": {
    "name": "ipython",
    "version": 3
   },
   "file_extension": ".py",
   "mimetype": "text/x-python",
   "name": "python",
   "nbconvert_exporter": "python",
   "pygments_lexer": "ipython3",
   "version": "3.6.5"
  }
 },
 "nbformat": 4,
 "nbformat_minor": 2
}
